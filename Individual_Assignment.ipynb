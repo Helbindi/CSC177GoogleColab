{
  "nbformat": 4,
  "nbformat_minor": 0,
  "metadata": {
    "colab": {
      "name": "Final - Individual Assignment.ipynb",
      "provenance": [],
      "collapsed_sections": []
    },
    "kernelspec": {
      "name": "python3",
      "display_name": "Python 3"
    }
  },
  "cells": [
    {
      "cell_type": "code",
      "metadata": {
        "colab": {
          "base_uri": "https://localhost:8080/"
        },
        "id": "Yirk0lpsk-vm",
        "outputId": "ee8e973a-d54c-4812-ee69-f1c37e197633"
      },
      "source": [
        "from google.colab import drive\r\n",
        "from google.colab import files\r\n",
        "drive.mount(\"/content/drive/\", force_remount=True)"
      ],
      "execution_count": 53,
      "outputs": [
        {
          "output_type": "stream",
          "text": [
            "Mounted at /content/drive/\n"
          ],
          "name": "stdout"
        }
      ]
    },
    {
      "cell_type": "code",
      "metadata": {
        "id": "Yeq_i0e-lA34"
      },
      "source": [
        "import numpy as np \r\n",
        "import pandas as pd \r\n",
        "import seaborn as sns\r\n",
        "import matplotlib.pyplot as plt\r\n",
        "sns.set(style=\"white\", color_codes=True)\r\n",
        "import warnings # current version of seaborn generates a bunch of warnings that we'll ignore\r\n",
        "warnings.filterwarnings(\"ignore\")"
      ],
      "execution_count": 54,
      "outputs": []
    },
    {
      "cell_type": "markdown",
      "metadata": {
        "id": "om-E3CkFpqbl"
      },
      "source": [
        "> **1. If the labels are known in the clustering project, use an example with code to explain how you would evaluate the performance of a supervised model?  Choose at least 2 models, a small dataset (can be a previous one), and show/using code and explanations why your answer is correct.**"
      ]
    },
    {
      "cell_type": "markdown",
      "metadata": {
        "id": "wRbJnPQ091Rl"
      },
      "source": [
        "Let's use the widely known Iris dataset and prepare the dataset for your first model: K-Nearest Neighbor (KNN)."
      ]
    },
    {
      "cell_type": "code",
      "metadata": {
        "colab": {
          "base_uri": "https://localhost:8080/",
          "height": 406
        },
        "id": "9NwjGnkklDOD",
        "outputId": "a1e72c99-ed3d-495f-d013-00d83e5c6b3d"
      },
      "source": [
        "iris_df = pd.read_csv(\"/content/drive/My Drive/Sac State/CSC177/data/iris.csv\")\r\n",
        "iris = iris_df.drop(columns='Id')\r\n",
        "iris"
      ],
      "execution_count": 55,
      "outputs": [
        {
          "output_type": "execute_result",
          "data": {
            "text/html": [
              "<div>\n",
              "<style scoped>\n",
              "    .dataframe tbody tr th:only-of-type {\n",
              "        vertical-align: middle;\n",
              "    }\n",
              "\n",
              "    .dataframe tbody tr th {\n",
              "        vertical-align: top;\n",
              "    }\n",
              "\n",
              "    .dataframe thead th {\n",
              "        text-align: right;\n",
              "    }\n",
              "</style>\n",
              "<table border=\"1\" class=\"dataframe\">\n",
              "  <thead>\n",
              "    <tr style=\"text-align: right;\">\n",
              "      <th></th>\n",
              "      <th>SepalLengthCm</th>\n",
              "      <th>SepalWidthCm</th>\n",
              "      <th>PetalLengthCm</th>\n",
              "      <th>PetalWidthCm</th>\n",
              "      <th>Species</th>\n",
              "    </tr>\n",
              "  </thead>\n",
              "  <tbody>\n",
              "    <tr>\n",
              "      <th>0</th>\n",
              "      <td>5.1</td>\n",
              "      <td>3.5</td>\n",
              "      <td>1.4</td>\n",
              "      <td>0.2</td>\n",
              "      <td>Iris-setosa</td>\n",
              "    </tr>\n",
              "    <tr>\n",
              "      <th>1</th>\n",
              "      <td>4.9</td>\n",
              "      <td>3.0</td>\n",
              "      <td>1.4</td>\n",
              "      <td>0.2</td>\n",
              "      <td>Iris-setosa</td>\n",
              "    </tr>\n",
              "    <tr>\n",
              "      <th>2</th>\n",
              "      <td>4.7</td>\n",
              "      <td>3.2</td>\n",
              "      <td>1.3</td>\n",
              "      <td>0.2</td>\n",
              "      <td>Iris-setosa</td>\n",
              "    </tr>\n",
              "    <tr>\n",
              "      <th>3</th>\n",
              "      <td>4.6</td>\n",
              "      <td>3.1</td>\n",
              "      <td>1.5</td>\n",
              "      <td>0.2</td>\n",
              "      <td>Iris-setosa</td>\n",
              "    </tr>\n",
              "    <tr>\n",
              "      <th>4</th>\n",
              "      <td>5.0</td>\n",
              "      <td>3.6</td>\n",
              "      <td>1.4</td>\n",
              "      <td>0.2</td>\n",
              "      <td>Iris-setosa</td>\n",
              "    </tr>\n",
              "    <tr>\n",
              "      <th>...</th>\n",
              "      <td>...</td>\n",
              "      <td>...</td>\n",
              "      <td>...</td>\n",
              "      <td>...</td>\n",
              "      <td>...</td>\n",
              "    </tr>\n",
              "    <tr>\n",
              "      <th>145</th>\n",
              "      <td>6.7</td>\n",
              "      <td>3.0</td>\n",
              "      <td>5.2</td>\n",
              "      <td>2.3</td>\n",
              "      <td>Iris-virginica</td>\n",
              "    </tr>\n",
              "    <tr>\n",
              "      <th>146</th>\n",
              "      <td>6.3</td>\n",
              "      <td>2.5</td>\n",
              "      <td>5.0</td>\n",
              "      <td>1.9</td>\n",
              "      <td>Iris-virginica</td>\n",
              "    </tr>\n",
              "    <tr>\n",
              "      <th>147</th>\n",
              "      <td>6.5</td>\n",
              "      <td>3.0</td>\n",
              "      <td>5.2</td>\n",
              "      <td>2.0</td>\n",
              "      <td>Iris-virginica</td>\n",
              "    </tr>\n",
              "    <tr>\n",
              "      <th>148</th>\n",
              "      <td>6.2</td>\n",
              "      <td>3.4</td>\n",
              "      <td>5.4</td>\n",
              "      <td>2.3</td>\n",
              "      <td>Iris-virginica</td>\n",
              "    </tr>\n",
              "    <tr>\n",
              "      <th>149</th>\n",
              "      <td>5.9</td>\n",
              "      <td>3.0</td>\n",
              "      <td>5.1</td>\n",
              "      <td>1.8</td>\n",
              "      <td>Iris-virginica</td>\n",
              "    </tr>\n",
              "  </tbody>\n",
              "</table>\n",
              "<p>150 rows × 5 columns</p>\n",
              "</div>"
            ],
            "text/plain": [
              "     SepalLengthCm  SepalWidthCm  PetalLengthCm  PetalWidthCm         Species\n",
              "0              5.1           3.5            1.4           0.2     Iris-setosa\n",
              "1              4.9           3.0            1.4           0.2     Iris-setosa\n",
              "2              4.7           3.2            1.3           0.2     Iris-setosa\n",
              "3              4.6           3.1            1.5           0.2     Iris-setosa\n",
              "4              5.0           3.6            1.4           0.2     Iris-setosa\n",
              "..             ...           ...            ...           ...             ...\n",
              "145            6.7           3.0            5.2           2.3  Iris-virginica\n",
              "146            6.3           2.5            5.0           1.9  Iris-virginica\n",
              "147            6.5           3.0            5.2           2.0  Iris-virginica\n",
              "148            6.2           3.4            5.4           2.3  Iris-virginica\n",
              "149            5.9           3.0            5.1           1.8  Iris-virginica\n",
              "\n",
              "[150 rows x 5 columns]"
            ]
          },
          "metadata": {
            "tags": []
          },
          "execution_count": 55
        }
      ]
    },
    {
      "cell_type": "code",
      "metadata": {
        "colab": {
          "base_uri": "https://localhost:8080/",
          "height": 366
        },
        "id": "eFmEyLwzrEGE",
        "outputId": "c50aea2d-937c-4ae8-ea7b-1b4f5bf9f631"
      },
      "source": [
        "sns.heatmap(iris.corr(), annot= True)"
      ],
      "execution_count": 56,
      "outputs": [
        {
          "output_type": "execute_result",
          "data": {
            "text/plain": [
              "<matplotlib.axes._subplots.AxesSubplot at 0x7f71a88071d0>"
            ]
          },
          "metadata": {
            "tags": []
          },
          "execution_count": 56
        },
        {
          "output_type": "display_data",
          "data": {
            "image/png": "[encoded data removed]",
            "text/plain": [
              "<Figure size 432x288 with 2 Axes>"
            ]
          },
          "metadata": {
            "tags": []
          }
        }
      ]
    },
    {
      "cell_type": "code",
      "metadata": {
        "colab": {
          "base_uri": "https://localhost:8080/"
        },
        "id": "f6OEQTjHrkPl",
        "outputId": "f3f5d9c9-0571-4618-de19-4d88eb99a40a"
      },
      "source": [
        "iris = iris.drop(columns=['SepalWidthCm'])\r\n",
        "iris.groupby('Species').size()"
      ],
      "execution_count": 57,
      "outputs": [
        {
          "output_type": "execute_result",
          "data": {
            "text/plain": [
              "Species\n",
              "Iris-setosa        50\n",
              "Iris-versicolor    50\n",
              "Iris-virginica     50\n",
              "dtype: int64"
            ]
          },
          "metadata": {
            "tags": []
          },
          "execution_count": 57
        }
      ]
    },
    {
      "cell_type": "code",
      "metadata": {
        "id": "4Imo6BKnSQ-d"
      },
      "source": [
        "X = iris.drop(columns=['Species'], axis=1)\r\n",
        "y = iris['Species']\r\n",
        "y.replace({'Iris-setosa': 0, 'Iris-versicolor': 1, 'Iris-virginica': 2},inplace = True)"
      ],
      "execution_count": 58,
      "outputs": []
    },
    {
      "cell_type": "code",
      "metadata": {
        "id": "oYxbhvuea7m-"
      },
      "source": [
        "# Split the dataset into 80% training and 20% testing\r\n",
        "from sklearn.model_selection import train_test_split\r\n",
        "X_train, X_test, y_train, y_test = train_test_split(X, y, test_size=0.2, random_state=5)"
      ],
      "execution_count": 59,
      "outputs": []
    },
    {
      "cell_type": "code",
      "metadata": {
        "id": "2raRdhXkWV3G"
      },
      "source": [
        "from sklearn.neighbors import KNeighborsClassifier\r\n",
        "# Create KNN classifier using 3 neighbors\r\n",
        "knn = KNeighborsClassifier(n_neighbors = 3)\r\n",
        "# Fit the classifier to the training data\r\n",
        "knn.fit(X_train,y_train)\r\n",
        "# Get predictions of KNN based on testing data\r\n",
        "knn_predict = knn.predict(X_test)"
      ],
      "execution_count": 60,
      "outputs": []
    },
    {
      "cell_type": "code",
      "metadata": {
        "colab": {
          "base_uri": "https://localhost:8080/"
        },
        "id": "4Y4X2GXxZCpb",
        "outputId": "5c7f91de-883f-4085-9cad-17da5fea7c21"
      },
      "source": [
        "from sklearn.metrics import classification_report, accuracy_score, confusion_matrix\r\n",
        "print(confusion_matrix(y_test, knn_predict))\r\n",
        "print(classification_report(y_test, knn_predict))"
      ],
      "execution_count": 61,
      "outputs": [
        {
          "output_type": "stream",
          "text": [
            "[[ 8  0  0]\n",
            " [ 0  9  2]\n",
            " [ 0  1 10]]\n",
            "              precision    recall  f1-score   support\n",
            "\n",
            "           0       1.00      1.00      1.00         8\n",
            "           1       0.90      0.82      0.86        11\n",
            "           2       0.83      0.91      0.87        11\n",
            "\n",
            "    accuracy                           0.90        30\n",
            "   macro avg       0.91      0.91      0.91        30\n",
            "weighted avg       0.90      0.90      0.90        30\n",
            "\n"
          ],
          "name": "stdout"
        }
      ]
    },
    {
      "cell_type": "markdown",
      "metadata": {
        "id": "Tn8ZjSgDdTLO"
      },
      "source": [
        "By splitting up our Iris dataset into training and testing data and applying them to KNN, the accuracy score of this model is around 90%. However, this accuracy score may not be the best estimate to the accuracy of our KNN model. We can find a better estimate using cross validation to perform multiple KNN models by uniquely splitting the dataset (n-times) everytime we perform a KNN model. This will give us a better evaluation on how the KNN model will perform on this particular dataset."
      ]
    },
    {
      "cell_type": "code",
      "metadata": {
        "colab": {
          "base_uri": "https://localhost:8080/"
        },
        "id": "viG6jrU_WoQo",
        "outputId": "b7798b65-de18-48d6-fe98-0e9e366a3666"
      },
      "source": [
        "from sklearn.model_selection import cross_val_score\r\n",
        "# Create a new KNN model\r\n",
        "knn_cval = KNeighborsClassifier(n_neighbors=3)\r\n",
        "# Train model with cv of 10 \r\n",
        "knn_cv_scores = cross_val_score(knn_cval, X, y, cv=10)\r\n",
        "# Print each cv score (accuracy) and average them\r\n",
        "print(knn_cv_scores)\r\n",
        "print('cv_scores mean: {}'.format(np.mean(knn_cv_scores)))"
      ],
      "execution_count": 62,
      "outputs": [
        {
          "output_type": "stream",
          "text": [
            "[1.         0.93333333 1.         0.93333333 0.93333333 1.\n",
            " 0.93333333 1.         1.         1.        ]\n",
            "cv_scores mean: 0.9733333333333334\n"
          ],
          "name": "stdout"
        }
      ]
    },
    {
      "cell_type": "markdown",
      "metadata": {
        "id": "cFQJPEQReWag"
      },
      "source": [
        "By splitting the dataset uniquely 10 times to perform 10 KNN model evaluations it has a mean accuracy score of 97.3%, much higher than our previous accuracy score of 90%. The KNN model appears to perform well with this Iris dataset.\r\n",
        "\r\n",
        "Finally, lets look at a different supervised model known as Gaussian Naive Bayes (GNB) using the same Iris dataset."
      ]
    },
    {
      "cell_type": "code",
      "metadata": {
        "id": "-NwUDPvAfTR1"
      },
      "source": [
        "from sklearn.naive_bayes import GaussianNB\r\n",
        "# Create a new GNB model\r\n",
        "gnb = GaussianNB()\r\n",
        "# Fit the classifier to the training data\r\n",
        "gnb.fit(X_train, y_train)\r\n",
        "# Get predictions of GNB based on testing data\r\n",
        "gnb_pred = gnb.predict(X_test)"
      ],
      "execution_count": 63,
      "outputs": []
    },
    {
      "cell_type": "code",
      "metadata": {
        "colab": {
          "base_uri": "https://localhost:8080/"
        },
        "id": "XBNZDZzZggMX",
        "outputId": "1bd6cc88-1fa8-4eb6-c07a-dbd5dec24093"
      },
      "source": [
        "from sklearn.metrics import classification_report, accuracy_score, confusion_matrix\r\n",
        "print(confusion_matrix(y_test, gnb_pred))\r\n",
        "print(classification_report(y_test, gnb_pred))"
      ],
      "execution_count": 64,
      "outputs": [
        {
          "output_type": "stream",
          "text": [
            "[[ 8  0  0]\n",
            " [ 0 10  1]\n",
            " [ 0  1 10]]\n",
            "              precision    recall  f1-score   support\n",
            "\n",
            "           0       1.00      1.00      1.00         8\n",
            "           1       0.91      0.91      0.91        11\n",
            "           2       0.91      0.91      0.91        11\n",
            "\n",
            "    accuracy                           0.93        30\n",
            "   macro avg       0.94      0.94      0.94        30\n",
            "weighted avg       0.93      0.93      0.93        30\n",
            "\n"
          ],
          "name": "stdout"
        }
      ]
    },
    {
      "cell_type": "code",
      "metadata": {
        "colab": {
          "base_uri": "https://localhost:8080/"
        },
        "id": "scvovEZtgoPM",
        "outputId": "74ece987-a105-4e28-8f12-23290336ee65"
      },
      "source": [
        "from sklearn.model_selection import cross_val_score\r\n",
        "# Create a new GNB model\r\n",
        "gnb_cval = GaussianNB()\r\n",
        "# Train model with cv of 10 \r\n",
        "gnb_cv_scores = cross_val_score(gnb_cval, X, y, cv=10)\r\n",
        "# Print each cv score (accuracy) and average them\r\n",
        "print(gnb_cv_scores)\r\n",
        "print('cv_scores mean: {}'.format(np.mean(gnb_cv_scores)))"
      ],
      "execution_count": 65,
      "outputs": [
        {
          "output_type": "stream",
          "text": [
            "[0.93333333 0.93333333 1.         0.93333333 0.93333333 0.93333333\n",
            " 0.93333333 1.         1.         1.        ]\n",
            "cv_scores mean: 0.96\n"
          ],
          "name": "stdout"
        }
      ]
    },
    {
      "cell_type": "markdown",
      "metadata": {
        "id": "JN3tHHqKicnE"
      },
      "source": [
        "Similar to the KNN model, our single GNB model had a accuracy score of 93% and when applying the same cross validation as KNN, the GNB model had a mean accuracy score of 96%. \r\n",
        "\r\n",
        "Looking at how the two supervised models performed, both can be evaluated as performing well and consistenly with this dataset in classifying the known labels."
      ]
    },
    {
      "cell_type": "markdown",
      "metadata": {
        "id": "k72DunyxptVI"
      },
      "source": [
        ">**2. How would you explain linear regression to a business executive?  What are some alternative models to a linear regression?  Describe a scenario based on a real or fictitious company.  At least 5-6 sentences.  No code required.**\r\n"
      ]
    },
    {
      "cell_type": "markdown",
      "metadata": {
        "id": "iRDnCKvUQWfg"
      },
      "source": [
        "A simple linear regression attempts to model the linear relationship between two variables: explanatory and dependent. For example, an explanatory variable could be someones height and the dependent variable is their weight. Using simple linear regression, we can model and show that a persons weight is generally dependent on their height. Using this linear line or function, we can generalize a person's weight based on knowing their height like the image show below.\r\n",
        "\r\n",
        "![SimpleLinearRegression.png](data:image/png;base64,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)"
      ]
    },
    {
      "cell_type": "markdown",
      "metadata": {
        "id": "OCxnCmZcR9Va"
      },
      "source": [
        "There are times where a simple linear regression is not possible or desirable, such as if there are more than one explanatory variable or if the relationship between variables is not linear. Linear regressions are also highly influenced by outlier cases. As a result, there are other regression models to account for these situations such as multiple linear regression, polynomial regression, and logistic regression.\r\n",
        "\r\n",
        "Regression models can be used to draw insights regarding business decisions for a company. Let's look at a dataset regarding whether or not a consumer had clicked on an advertisment. We can use logistic regression to predict whether a consumer has clicked on an advertisment based on the available data."
      ]
    },
    {
      "cell_type": "code",
      "metadata": {
        "colab": {
          "base_uri": "https://localhost:8080/",
          "height": 406
        },
        "id": "pL0qVm7QC2V0",
        "outputId": "1d74a61b-4f32-400a-b32b-3c85009e1ed8"
      },
      "source": [
        "ads_df = pd.read_csv(\"/content/drive/My Drive/Sac State/CSC177/data/advertising_clicks.csv\")\r\n",
        "ad_click = ads_df\r\n",
        "ad_click"
      ],
      "execution_count": 72,
      "outputs": [
        {
          "output_type": "execute_result",
          "data": {
            "text/html": [
              "<div>\n",
              "<style scoped>\n",
              "    .dataframe tbody tr th:only-of-type {\n",
              "        vertical-align: middle;\n",
              "    }\n",
              "\n",
              "    .dataframe tbody tr th {\n",
              "        vertical-align: top;\n",
              "    }\n",
              "\n",
              "    .dataframe thead th {\n",
              "        text-align: right;\n",
              "    }\n",
              "</style>\n",
              "<table border=\"1\" class=\"dataframe\">\n",
              "  <thead>\n",
              "    <tr style=\"text-align: right;\">\n",
              "      <th></th>\n",
              "      <th>Daily Time Spent on Site</th>\n",
              "      <th>Age</th>\n",
              "      <th>Area Income</th>\n",
              "      <th>Daily Internet Usage</th>\n",
              "      <th>Ad Topic Line</th>\n",
              "      <th>City</th>\n",
              "      <th>Male</th>\n",
              "      <th>Country</th>\n",
              "      <th>Timestamp</th>\n",
              "      <th>Clicked on Ad</th>\n",
              "    </tr>\n",
              "  </thead>\n",
              "  <tbody>\n",
              "    <tr>\n",
              "      <th>0</th>\n",
              "      <td>68.95</td>\n",
              "      <td>35</td>\n",
              "      <td>61833.90</td>\n",
              "      <td>256.09</td>\n",
              "      <td>Cloned 5thgeneration orchestration</td>\n",
              "      <td>Wrightburgh</td>\n",
              "      <td>0</td>\n",
              "      <td>Tunisia</td>\n",
              "      <td>2016-03-27 00:53:11</td>\n",
              "      <td>0</td>\n",
              "    </tr>\n",
              "    <tr>\n",
              "      <th>1</th>\n",
              "      <td>80.23</td>\n",
              "      <td>31</td>\n",
              "      <td>68441.85</td>\n",
              "      <td>193.77</td>\n",
              "      <td>Monitored national standardization</td>\n",
              "      <td>West Jodi</td>\n",
              "      <td>1</td>\n",
              "      <td>Nauru</td>\n",
              "      <td>2016-04-04 01:39:02</td>\n",
              "      <td>0</td>\n",
              "    </tr>\n",
              "    <tr>\n",
              "      <th>2</th>\n",
              "      <td>69.47</td>\n",
              "      <td>26</td>\n",
              "      <td>59785.94</td>\n",
              "      <td>236.50</td>\n",
              "      <td>Organic bottom-line service-desk</td>\n",
              "      <td>Davidton</td>\n",
              "      <td>0</td>\n",
              "      <td>San Marino</td>\n",
              "      <td>2016-03-13 20:35:42</td>\n",
              "      <td>0</td>\n",
              "    </tr>\n",
              "    <tr>\n",
              "      <th>3</th>\n",
              "      <td>74.15</td>\n",
              "      <td>29</td>\n",
              "      <td>54806.18</td>\n",
              "      <td>245.89</td>\n",
              "      <td>Triple-buffered reciprocal time-frame</td>\n",
              "      <td>West Terrifurt</td>\n",
              "      <td>1</td>\n",
              "      <td>Italy</td>\n",
              "      <td>2016-01-10 02:31:19</td>\n",
              "      <td>0</td>\n",
              "    </tr>\n",
              "    <tr>\n",
              "      <th>4</th>\n",
              "      <td>68.37</td>\n",
              "      <td>35</td>\n",
              "      <td>73889.99</td>\n",
              "      <td>225.58</td>\n",
              "      <td>Robust logistical utilization</td>\n",
              "      <td>South Manuel</td>\n",
              "      <td>0</td>\n",
              "      <td>Iceland</td>\n",
              "      <td>2016-06-03 03:36:18</td>\n",
              "      <td>0</td>\n",
              "    </tr>\n",
              "    <tr>\n",
              "      <th>...</th>\n",
              "      <td>...</td>\n",
              "      <td>...</td>\n",
              "      <td>...</td>\n",
              "      <td>...</td>\n",
              "      <td>...</td>\n",
              "      <td>...</td>\n",
              "      <td>...</td>\n",
              "      <td>...</td>\n",
              "      <td>...</td>\n",
              "      <td>...</td>\n",
              "    </tr>\n",
              "    <tr>\n",
              "      <th>995</th>\n",
              "      <td>72.97</td>\n",
              "      <td>30</td>\n",
              "      <td>71384.57</td>\n",
              "      <td>208.58</td>\n",
              "      <td>Fundamental modular algorithm</td>\n",
              "      <td>Duffystad</td>\n",
              "      <td>1</td>\n",
              "      <td>Lebanon</td>\n",
              "      <td>2016-02-11 21:49:00</td>\n",
              "      <td>1</td>\n",
              "    </tr>\n",
              "    <tr>\n",
              "      <th>996</th>\n",
              "      <td>51.30</td>\n",
              "      <td>45</td>\n",
              "      <td>67782.17</td>\n",
              "      <td>134.42</td>\n",
              "      <td>Grass-roots cohesive monitoring</td>\n",
              "      <td>New Darlene</td>\n",
              "      <td>1</td>\n",
              "      <td>Bosnia and Herzegovina</td>\n",
              "      <td>2016-04-22 02:07:01</td>\n",
              "      <td>1</td>\n",
              "    </tr>\n",
              "    <tr>\n",
              "      <th>997</th>\n",
              "      <td>51.63</td>\n",
              "      <td>51</td>\n",
              "      <td>42415.72</td>\n",
              "      <td>120.37</td>\n",
              "      <td>Expanded intangible solution</td>\n",
              "      <td>South Jessica</td>\n",
              "      <td>1</td>\n",
              "      <td>Mongolia</td>\n",
              "      <td>2016-02-01 17:24:57</td>\n",
              "      <td>1</td>\n",
              "    </tr>\n",
              "    <tr>\n",
              "      <th>998</th>\n",
              "      <td>55.55</td>\n",
              "      <td>19</td>\n",
              "      <td>41920.79</td>\n",
              "      <td>187.95</td>\n",
              "      <td>Proactive bandwidth-monitored policy</td>\n",
              "      <td>West Steven</td>\n",
              "      <td>0</td>\n",
              "      <td>Guatemala</td>\n",
              "      <td>2016-03-24 02:35:54</td>\n",
              "      <td>0</td>\n",
              "    </tr>\n",
              "    <tr>\n",
              "      <th>999</th>\n",
              "      <td>45.01</td>\n",
              "      <td>26</td>\n",
              "      <td>29875.80</td>\n",
              "      <td>178.35</td>\n",
              "      <td>Virtual 5thgeneration emulation</td>\n",
              "      <td>Ronniemouth</td>\n",
              "      <td>0</td>\n",
              "      <td>Brazil</td>\n",
              "      <td>2016-06-03 21:43:21</td>\n",
              "      <td>1</td>\n",
              "    </tr>\n",
              "  </tbody>\n",
              "</table>\n",
              "<p>1000 rows × 10 columns</p>\n",
              "</div>"
            ],
            "text/plain": [
              "     Daily Time Spent on Site  Age  ...            Timestamp  Clicked on Ad\n",
              "0                       68.95   35  ...  2016-03-27 00:53:11              0\n",
              "1                       80.23   31  ...  2016-04-04 01:39:02              0\n",
              "2                       69.47   26  ...  2016-03-13 20:35:42              0\n",
              "3                       74.15   29  ...  2016-01-10 02:31:19              0\n",
              "4                       68.37   35  ...  2016-06-03 03:36:18              0\n",
              "..                        ...  ...  ...                  ...            ...\n",
              "995                     72.97   30  ...  2016-02-11 21:49:00              1\n",
              "996                     51.30   45  ...  2016-04-22 02:07:01              1\n",
              "997                     51.63   51  ...  2016-02-01 17:24:57              1\n",
              "998                     55.55   19  ...  2016-03-24 02:35:54              0\n",
              "999                     45.01   26  ...  2016-06-03 21:43:21              1\n",
              "\n",
              "[1000 rows x 10 columns]"
            ]
          },
          "metadata": {
            "tags": []
          },
          "execution_count": 72
        }
      ]
    },
    {
      "cell_type": "code",
      "metadata": {
        "id": "VgjBS4CNY4Zd"
      },
      "source": [
        "ad_click = ad_click.drop(['Ad Topic Line','City','Country','Timestamp','Timestamp'],axis=1)"
      ],
      "execution_count": 73,
      "outputs": []
    },
    {
      "cell_type": "code",
      "metadata": {
        "id": "_zze4w2YY_1X"
      },
      "source": [
        "X= ad_click.drop('Clicked on Ad',axis=1)\r\n",
        "y= ad_click['Clicked on Ad']"
      ],
      "execution_count": 74,
      "outputs": []
    },
    {
      "cell_type": "code",
      "metadata": {
        "id": "hvtEb7hyJABh"
      },
      "source": [
        "# Split the dataset into 80% training and 20% testing\r\n",
        "from sklearn.model_selection import train_test_split\r\n",
        "X_train, X_test, y_train, y_test = train_test_split(X, y, test_size=0.2, random_state=5)"
      ],
      "execution_count": 75,
      "outputs": []
    },
    {
      "cell_type": "code",
      "metadata": {
        "id": "T13twPgKZWQH"
      },
      "source": [
        "from sklearn.linear_model import LogisticRegression\r\n",
        "# Create a Logistic Regression model \r\n",
        "log_model = LogisticRegression()\r\n",
        "# Fit the classification model to training data\r\n",
        "log_model.fit(X_train,y_train)\r\n",
        "# Get the models predictions based on test data\r\n",
        "predict = log_model.predict(X_test)"
      ],
      "execution_count": 76,
      "outputs": []
    },
    {
      "cell_type": "code",
      "metadata": {
        "colab": {
          "base_uri": "https://localhost:8080/"
        },
        "id": "cEap69x1ZeKs",
        "outputId": "ae4ba0cf-079b-498d-a536-03c7f6301354"
      },
      "source": [
        "from sklearn.metrics import classification_report, accuracy_score, confusion_matrix\r\n",
        "print(confusion_matrix(y_test, predict))\r\n",
        "print(classification_report(y_test, predict))"
      ],
      "execution_count": 77,
      "outputs": [
        {
          "output_type": "stream",
          "text": [
            "[[94  5]\n",
            " [12 89]]\n",
            "              precision    recall  f1-score   support\n",
            "\n",
            "           0       0.89      0.95      0.92        99\n",
            "           1       0.95      0.88      0.91       101\n",
            "\n",
            "    accuracy                           0.92       200\n",
            "   macro avg       0.92      0.92      0.91       200\n",
            "weighted avg       0.92      0.92      0.91       200\n",
            "\n"
          ],
          "name": "stdout"
        }
      ]
    },
    {
      "cell_type": "code",
      "metadata": {
        "colab": {
          "base_uri": "https://localhost:8080/"
        },
        "id": "eCw_sQUlBF9y",
        "outputId": "a00f4f2d-4822-402c-fb88-32a683f36299"
      },
      "source": [
        "from sklearn.model_selection import cross_val_score\r\n",
        "# Create a new Logistic Regression model \r\n",
        "log_cv = LogisticRegression()\r\n",
        "# Train model with cv of 10 \r\n",
        "log_cv_scores = cross_val_score(log_cv, X, y, cv=10)\r\n",
        "# Print each cv score (accuracy) and average them\r\n",
        "print(log_cv_scores)\r\n",
        "print('cv_scores mean: {}'.format(np.mean(log_cv_scores)))"
      ],
      "execution_count": 78,
      "outputs": [
        {
          "output_type": "stream",
          "text": [
            "[0.94 0.91 0.88 0.85 0.9  0.89 0.95 0.87 0.93 0.95]\n",
            "cv_scores mean: 0.9069999999999998\n"
          ],
          "name": "stdout"
        }
      ]
    },
    {
      "cell_type": "markdown",
      "metadata": {
        "id": "IijD5MklbvRk"
      },
      "source": [
        "Based on the avaiable data, the logistic regression model was able to predict whether a consumer had clicked on an advertisment within an accuracy of 92% but using cross validation, thre more reliable accuracy estimate is 90.7%. By learning which type of consumer is more likely to click an advertisment, a company may improve their sales by launching more targeted advertisments to that consumer demographic."
      ]
    },
    {
      "cell_type": "markdown",
      "metadata": {
        "id": "k_zVWeiqpvth"
      },
      "source": [
        "> **3. Select a data science competition to do some preliminary research and provide advice on how you would approach this problem.  No code required**\r\n",
        "\r\n",
        "\r\n",
        "\r\n"
      ]
    },
    {
      "cell_type": "markdown",
      "metadata": {
        "id": "ePf4Z5LOqiFl"
      },
      "source": [
        "> **a. Find an active data science competition and give a brief summary of the challenge.  It must be in the domain or related to data analytic topics (discussed in class or even more advanced ones are ok): https://www.kaggle.com/competitions**\r\n",
        "\r\n",
        "https://www.kaggle.com/c/nlp-getting-started/overview\r\n",
        "\r\n",
        "This is one of the \"Getting Started\" Kaggle competitions for data scientists who want to gain experience with Natural Language Processing (NLP). The dataset includes a collection of Twitter tweets containing both announcements regarding disasters that have occured or regular tweets. However, these regular tweets may be using the same words or wording as the disaster tweets. This challenge requires the contestant to build a machine learning model that identifies which tweets are about real disasters and which are not.\r\n",
        "\r\n",
        "\r\n",
        "\r\n",
        "\r\n"
      ]
    },
    {
      "cell_type": "markdown",
      "metadata": {
        "id": "0fdYTEJJqixc"
      },
      "source": [
        "> **b. Research some techniques to solve it.  Provide three links/citations to sources which have some relevant background topics that would be useful in solving this challenge.  Use Google Scholar to find sources from reputable computer science conferences and journals like IEEE, ACM, etc.  You will be graded on the quality of your sources and how relevant they are to your challenge.**\r\n",
        "\r\n",
        "\r\n",
        "1. [N-Gram-Based Text Categorization](https://drive.google.com/file/d/1Tj2CfueGUqnxabP-KhxTx6l9PqHrmKsf/view?usp=sharing)\r\n",
        "\r\n",
        "\r\n",
        "2. [Data Cleaning: Problems and Current Approaches](https://drive.google.com/file/d/1Xn7y7pL52iwyzrufxsMc8mphDzeBH12Y/view?usp=sharing)\r\n",
        "\r\n",
        "3. [GloVe: Global Vectors for Word Representation](https://drive.google.com/file/d/1hhWiyPZ1BIRvo5y4Xe1Y1ityYjqgTIXg/view?usp=sharing)\r\n",
        "\r\n",
        "\r\n",
        "\r\n"
      ]
    },
    {
      "cell_type": "markdown",
      "metadata": {
        "id": "GX4zHP3Tqi20"
      },
      "source": [
        "> **c. Provide at least 2 paragraphs explanation on how you would solve this challenge.  What steps would you take? What machine learning models would you apply?  What tools from the different libraries we used this semester would you apply?**\r\n",
        "\r\n",
        "First, I would explore the dataset and identify any key elements that would improve or hinder the NLP model. I would check if there were any missing values and where they may occur, if necessary decide whether or not to remove them all together. Decide which columns in the raw dataset are necessary and determine if any need to be dropped. Begin explanatory data analysis by trying to observe any differences or patterns between tweets that are real and those which are not. As well as, cleaning the text data such as spelling errors, identifying and removing stop words, remove website links, remove punctuation(@, #, etc.), remove emojis, etc.\r\n",
        "\r\n",
        "\r\n",
        "Once the dataset is ready to be used, we can use one of many text classification models. We explored Naive Bayes text classification in this class but there are other text classifications that may perform better such as BERT or GloVe. Utilizing these models will be key to identifying which tweets are real disasters and which are not. These classification models have their own libraries to be utilized while using sklearn's train_test_split library to traing and test the dataset using our desired NLP model. We will also continue using libraries such as pandas, numpy, pyplot, seaborn, etc. for accessing the data and helping develop our explanatory data analysis.\r\n",
        "\r\n",
        "\r\n",
        "\r\n"
      ]
    }
  ]
}
